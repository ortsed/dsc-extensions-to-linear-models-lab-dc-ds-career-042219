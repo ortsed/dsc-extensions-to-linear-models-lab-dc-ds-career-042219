{
 "cells": [
  {
   "cell_type": "markdown",
   "metadata": {},
   "source": [
    "# Extensions to Linear Models - Lab"
   ]
  },
  {
   "cell_type": "markdown",
   "metadata": {},
   "source": [
    "## Introduction\n",
    "\n",
    "In this lab, you'll practice many concepts learned in this section, from adding interactions and polynomials to your model to AIC and BIC!"
   ]
  },
  {
   "cell_type": "markdown",
   "metadata": {},
   "source": [
    "## Summary\n",
    "\n",
    "You will be able to:\n",
    "- Build a linear regression model with polynomial features/interactions\n",
    "- Perform regularization\n",
    "- Use AIC and BIC to select the best value for the regularization parameter\n"
   ]
  },
  {
   "cell_type": "markdown",
   "metadata": {},
   "source": [
    "## Let's get started!"
   ]
  },
  {
   "cell_type": "markdown",
   "metadata": {},
   "source": [
    "Import all the necessary packages."
   ]
  },
  {
   "cell_type": "code",
   "execution_count": 1,
   "metadata": {},
   "outputs": [],
   "source": [
    "import pandas as pd\n",
    "import numpy as np\n",
    "import matplotlib.pyplot as plt\n",
    "import warnings\n",
    "warnings.filterwarnings('ignore')\n",
    "\n",
    "from sklearn.linear_model import LinearRegression\n",
    "from sklearn.model_selection import cross_val_score\n",
    "from sklearn.model_selection import KFold\n",
    "from sklearn import preprocessing\n",
    "from itertools import combinations\n",
    "\n",
    "from sklearn.datasets import load_boston"
   ]
  },
  {
   "cell_type": "markdown",
   "metadata": {},
   "source": [
    "## Look at a Baseline Boston Housing Data Model"
   ]
  },
  {
   "cell_type": "markdown",
   "metadata": {},
   "source": [
    "Import the Boston housing data set, use all the predictors in their scaled version (using `preprocessing.scale`. Look at a baseline model using *scaled variables* as predictors. Use 5-fold cross-validation this time and use the $R^2$ score to evaluate the model."
   ]
  },
  {
   "cell_type": "code",
   "execution_count": 2,
   "metadata": {},
   "outputs": [],
   "source": [
    "bos = load_boston()"
   ]
  },
  {
   "cell_type": "code",
   "execution_count": 3,
   "metadata": {},
   "outputs": [],
   "source": [
    "df = pd.DataFrame(preprocessing.scale(bos.data))\n",
    "df.columns = bos.feature_names"
   ]
  },
  {
   "cell_type": "code",
   "execution_count": 4,
   "metadata": {},
   "outputs": [
    {
     "data": {
      "text/plain": [
       "dict_keys(['data', 'target', 'feature_names', 'DESCR', 'filename'])"
      ]
     },
     "execution_count": 4,
     "metadata": {},
     "output_type": "execute_result"
    }
   ],
   "source": [
    "bos.keys()"
   ]
  },
  {
   "cell_type": "code",
   "execution_count": 5,
   "metadata": {
    "scrolled": true
   },
   "outputs": [
    {
     "data": {
      "text/plain": [
       "Index(['CRIM', 'ZN', 'INDUS', 'CHAS', 'NOX', 'RM', 'AGE', 'DIS', 'RAD', 'TAX',\n",
       "       'PTRATIO', 'B', 'LSTAT'],\n",
       "      dtype='object')"
      ]
     },
     "execution_count": 5,
     "metadata": {},
     "output_type": "execute_result"
    }
   ],
   "source": [
    "df.columns"
   ]
  },
  {
   "cell_type": "code",
   "execution_count": 6,
   "metadata": {},
   "outputs": [],
   "source": [
    "y=bos.target"
   ]
  },
  {
   "cell_type": "code",
   "execution_count": null,
   "metadata": {},
   "outputs": [],
   "source": []
  },
  {
   "cell_type": "code",
   "execution_count": 7,
   "metadata": {},
   "outputs": [
    {
     "data": {
      "text/html": [
       "<div>\n",
       "<style scoped>\n",
       "    .dataframe tbody tr th:only-of-type {\n",
       "        vertical-align: middle;\n",
       "    }\n",
       "\n",
       "    .dataframe tbody tr th {\n",
       "        vertical-align: top;\n",
       "    }\n",
       "\n",
       "    .dataframe thead th {\n",
       "        text-align: right;\n",
       "    }\n",
       "</style>\n",
       "<table border=\"1\" class=\"dataframe\">\n",
       "  <thead>\n",
       "    <tr style=\"text-align: right;\">\n",
       "      <th></th>\n",
       "      <th>CRIM</th>\n",
       "      <th>ZN</th>\n",
       "      <th>INDUS</th>\n",
       "      <th>CHAS</th>\n",
       "      <th>NOX</th>\n",
       "      <th>RM</th>\n",
       "      <th>AGE</th>\n",
       "      <th>DIS</th>\n",
       "      <th>RAD</th>\n",
       "      <th>TAX</th>\n",
       "      <th>PTRATIO</th>\n",
       "      <th>B</th>\n",
       "      <th>LSTAT</th>\n",
       "    </tr>\n",
       "  </thead>\n",
       "  <tbody>\n",
       "    <tr>\n",
       "      <th>0</th>\n",
       "      <td>-0.419782</td>\n",
       "      <td>0.284830</td>\n",
       "      <td>-1.287909</td>\n",
       "      <td>-0.272599</td>\n",
       "      <td>-0.144217</td>\n",
       "      <td>0.413672</td>\n",
       "      <td>-0.120013</td>\n",
       "      <td>0.140214</td>\n",
       "      <td>-0.982843</td>\n",
       "      <td>-0.666608</td>\n",
       "      <td>-1.459000</td>\n",
       "      <td>0.441052</td>\n",
       "      <td>-1.075562</td>\n",
       "    </tr>\n",
       "    <tr>\n",
       "      <th>1</th>\n",
       "      <td>-0.417339</td>\n",
       "      <td>-0.487722</td>\n",
       "      <td>-0.593381</td>\n",
       "      <td>-0.272599</td>\n",
       "      <td>-0.740262</td>\n",
       "      <td>0.194274</td>\n",
       "      <td>0.367166</td>\n",
       "      <td>0.557160</td>\n",
       "      <td>-0.867883</td>\n",
       "      <td>-0.987329</td>\n",
       "      <td>-0.303094</td>\n",
       "      <td>0.441052</td>\n",
       "      <td>-0.492439</td>\n",
       "    </tr>\n",
       "    <tr>\n",
       "      <th>2</th>\n",
       "      <td>-0.417342</td>\n",
       "      <td>-0.487722</td>\n",
       "      <td>-0.593381</td>\n",
       "      <td>-0.272599</td>\n",
       "      <td>-0.740262</td>\n",
       "      <td>1.282714</td>\n",
       "      <td>-0.265812</td>\n",
       "      <td>0.557160</td>\n",
       "      <td>-0.867883</td>\n",
       "      <td>-0.987329</td>\n",
       "      <td>-0.303094</td>\n",
       "      <td>0.396427</td>\n",
       "      <td>-1.208727</td>\n",
       "    </tr>\n",
       "    <tr>\n",
       "      <th>3</th>\n",
       "      <td>-0.416750</td>\n",
       "      <td>-0.487722</td>\n",
       "      <td>-1.306878</td>\n",
       "      <td>-0.272599</td>\n",
       "      <td>-0.835284</td>\n",
       "      <td>1.016303</td>\n",
       "      <td>-0.809889</td>\n",
       "      <td>1.077737</td>\n",
       "      <td>-0.752922</td>\n",
       "      <td>-1.106115</td>\n",
       "      <td>0.113032</td>\n",
       "      <td>0.416163</td>\n",
       "      <td>-1.361517</td>\n",
       "    </tr>\n",
       "    <tr>\n",
       "      <th>4</th>\n",
       "      <td>-0.412482</td>\n",
       "      <td>-0.487722</td>\n",
       "      <td>-1.306878</td>\n",
       "      <td>-0.272599</td>\n",
       "      <td>-0.835284</td>\n",
       "      <td>1.228577</td>\n",
       "      <td>-0.511180</td>\n",
       "      <td>1.077737</td>\n",
       "      <td>-0.752922</td>\n",
       "      <td>-1.106115</td>\n",
       "      <td>0.113032</td>\n",
       "      <td>0.441052</td>\n",
       "      <td>-1.026501</td>\n",
       "    </tr>\n",
       "  </tbody>\n",
       "</table>\n",
       "</div>"
      ],
      "text/plain": [
       "       CRIM        ZN     INDUS      CHAS       NOX        RM       AGE  \\\n",
       "0 -0.419782  0.284830 -1.287909 -0.272599 -0.144217  0.413672 -0.120013   \n",
       "1 -0.417339 -0.487722 -0.593381 -0.272599 -0.740262  0.194274  0.367166   \n",
       "2 -0.417342 -0.487722 -0.593381 -0.272599 -0.740262  1.282714 -0.265812   \n",
       "3 -0.416750 -0.487722 -1.306878 -0.272599 -0.835284  1.016303 -0.809889   \n",
       "4 -0.412482 -0.487722 -1.306878 -0.272599 -0.835284  1.228577 -0.511180   \n",
       "\n",
       "        DIS       RAD       TAX   PTRATIO         B     LSTAT  \n",
       "0  0.140214 -0.982843 -0.666608 -1.459000  0.441052 -1.075562  \n",
       "1  0.557160 -0.867883 -0.987329 -0.303094  0.441052 -0.492439  \n",
       "2  0.557160 -0.867883 -0.987329 -0.303094  0.396427 -1.208727  \n",
       "3  1.077737 -0.752922 -1.106115  0.113032  0.416163 -1.361517  \n",
       "4  1.077737 -0.752922 -1.106115  0.113032  0.441052 -1.026501  "
      ]
     },
     "execution_count": 7,
     "metadata": {},
     "output_type": "execute_result"
    }
   ],
   "source": [
    "df.head()"
   ]
  },
  {
   "cell_type": "code",
   "execution_count": null,
   "metadata": {},
   "outputs": [],
   "source": []
  },
  {
   "cell_type": "markdown",
   "metadata": {},
   "source": [
    "## Include interactions\n",
    "\n",
    "Look at all the possible combinations of variables for interactions by adding interactions one by one to the baseline model. Next, evaluate that model using 5-fold classification and store the $R^2$ to compare it with the baseline model.\n",
    "\n",
    "You've created code for this before in the interactions lab, yet this time, you have scaled the variables so the outcomes may look different. \n",
    "\n",
    "Print the 7 most important interactions."
   ]
  },
  {
   "cell_type": "code",
   "execution_count": 8,
   "metadata": {},
   "outputs": [
    {
     "name": "stdout",
     "output_type": "stream",
     "text": [
      "['RM', 'LSTAT', 0.804710962672808]\n",
      "['RM', 'TAX', 0.7943408370486366]\n",
      "['RM', 'RAD', 0.7897010816912517]\n",
      "['RM', 'PTRATIO', 0.7818647263865117]\n",
      "['INDUS', 'RM', 0.7787951855353925]\n",
      "['NOX', 'RM', 0.7678416665069798]\n",
      "['RM', 'AGE', 0.7644048831798201]\n",
      "['CRIM', 'RM', 0.7614772707404173]\n",
      "['RM', 'B', 0.7602386028435114]\n",
      "['RM', 'DIS', 0.7591046539312967]\n",
      "['INDUS', 'DIS', 0.7538752751404021]\n",
      "['ZN', 'RM', 0.7537746218880714]\n",
      "['CRIM', 'CHAS', 0.7512052891664784]\n",
      "['ZN', 'INDUS', 0.7465404025884856]\n",
      "['DIS', 'TAX', 0.7461784004312446]\n",
      "['INDUS', 'AGE', 0.7460362665575673]\n",
      "['CRIM', 'DIS', 0.7455292683324883]\n",
      "['CHAS', 'TAX', 0.7451627494084894]\n",
      "['AGE', 'DIS', 0.7450697115083921]\n",
      "['CHAS', 'RAD', 0.7448760291537604]\n",
      "['NOX', 'DIS', 0.7448072231163838]\n",
      "['INDUS', 'TAX', 0.7444070084073413]\n",
      "['CRIM', 'NOX', 0.7443909146148453]\n",
      "['DIS', 'RAD', 0.744347965355325]\n",
      "['B', 'LSTAT', 0.7442008137462226]\n",
      "['CHAS', 'LSTAT', 0.743825591433624]\n",
      "['CRIM', 'RAD', 0.7438254523689352]\n",
      "['ZN', 'LSTAT', 0.7437701840980503]\n",
      "['NOX', 'RAD', 0.7434544086327075]\n",
      "['CRIM', 'TAX', 0.7433389932352459]\n",
      "['CRIM', 'LSTAT', 0.7433189720883226]\n",
      "['AGE', 'B', 0.7431863981218432]\n",
      "['TAX', 'PTRATIO', 0.7431774666736093]\n",
      "['DIS', 'PTRATIO', 0.7431345791049594]\n",
      "['NOX', 'PTRATIO', 0.7429561284094072]\n",
      "['RAD', 'LSTAT', 0.7429069101079954]\n",
      "['CRIM', 'PTRATIO', 0.7425318896109436]\n",
      "['CRIM', 'B', 0.7424966719186857]\n",
      "['CHAS', 'DIS', 0.7424831315182212]\n",
      "['ZN', 'DIS', 0.7423448396943388]\n",
      "['INDUS', 'LSTAT', 0.7421932199305926]\n",
      "['CHAS', 'PTRATIO', 0.7419895882495078]\n",
      "['INDUS', 'CHAS', 0.7419235609397574]\n",
      "['CRIM', 'AGE', 0.7418477869518143]\n",
      "['AGE', 'TAX', 0.7418216031380302]\n",
      "['PTRATIO', 'LSTAT', 0.7417512905261996]\n",
      "['AGE', 'PTRATIO', 0.7417441736106167]\n",
      "['NOX', 'B', 0.74165020028759]\n",
      "['CHAS', 'AGE', 0.7413961554114044]\n",
      "['NOX', 'TAX', 0.7413909257982823]\n",
      "['DIS', 'B', 0.7413574681271169]\n",
      "['CHAS', 'B', 0.741355654300996]\n",
      "['ZN', 'AGE', 0.7412943839180446]\n",
      "['INDUS', 'NOX', 0.7412819153455197]\n",
      "['DIS', 'LSTAT', 0.7411205504432818]\n",
      "['CRIM', 'ZN', 0.7410921219887578]\n",
      "['PTRATIO', 'B', 0.7410274186643673]\n",
      "['AGE', 'LSTAT', 0.7409839965763656]\n",
      "['ZN', 'TAX', 0.7409452732080452]\n",
      "['INDUS', 'B', 0.7409161595162056]\n",
      "['TAX', 'LSTAT', 0.740879223387396]\n",
      "['CHAS', 'NOX', 0.7408754963677961]\n",
      "['RAD', 'TAX', 0.7408199727199324]\n",
      "['AGE', 'RAD', 0.7408121163516056]\n",
      "['NOX', 'LSTAT', 0.740805247849524]\n",
      "['CHAS', 'RM', 0.7407790148538598]\n",
      "['RAD', 'PTRATIO', 0.7407328948790137]\n",
      "['ZN', 'PTRATIO', 0.7407174331999046]\n",
      "['ZN', 'RAD', 0.7407065617037367]\n",
      "['ZN', 'CHAS', 0.7407052396551087]\n",
      "['ZN', 'NOX', 0.740699451291549]\n",
      "['TAX', 'B', 0.7406698288931246]\n",
      "['INDUS', 'PTRATIO', 0.7406655016638357]\n",
      "['INDUS', 'RAD', 0.7406513340050023]\n",
      "['ZN', 'B', 0.7406496669992135]\n",
      "['NOX', 'AGE', 0.7406485454383083]\n",
      "['CRIM', 'INDUS', 0.7406452092440075]\n",
      "['RAD', 'B', 0.7406445305159736]\n"
     ]
    }
   ],
   "source": [
    "combos = []\n",
    "for comb1, comb2 in combinations(df.columns, 2):\n",
    "    model = LinearRegression()\n",
    "    df2 = df\n",
    "    df2[\"interaction\"] = df[comb1]*df[comb2]\n",
    "    model.fit(df2, y)\n",
    "    combos.append([comb1, comb2, model.score(df2,y)])\n",
    "for comb in sorted(combos, key=lambda x: x[2], reverse=True):\n",
    "    print(comb)"
   ]
  },
  {
   "cell_type": "markdown",
   "metadata": {},
   "source": [
    "Write code to include the 7 most important interactions in your data set by adding 7 columns. Name the columns \"var1_var2\" with var1 and var2 the two variables in the interaction."
   ]
  },
  {
   "cell_type": "code",
   "execution_count": 9,
   "metadata": {},
   "outputs": [],
   "source": [
    "for comb in sorted(combos, key=lambda x: x[2], reverse=True)[0:6]:\n",
    "    df[\"%s_%s\" % (comb[0], comb[1])] = df[comb[0]] * df[comb[1]]"
   ]
  },
  {
   "cell_type": "markdown",
   "metadata": {},
   "source": [
    "## Include Polynomials"
   ]
  },
  {
   "cell_type": "markdown",
   "metadata": {},
   "source": [
    "Try polynomials of 2, 3 and 4 for each variable, in a similar way you did for interactions (by looking at your baseline model and seeing how $R^2$ increases). Do understand that when going for a polynomial of 4, the particular column is raised to the power of 2 and 3 as well in other terms. We only want to include \"pure\" polynomials, so make sure no interactions are included. We want the result to return a list that contain tuples of the form:\n",
    "\n",
    "`(var_name, degree, R2)`, so eg. `('DIS', 3, 0.732)`"
   ]
  },
  {
   "cell_type": "code",
   "execution_count": 10,
   "metadata": {},
   "outputs": [],
   "source": [
    "from sklearn.preprocessing import PolynomialFeatures\n",
    "import statsmodels.api as sm"
   ]
  },
  {
   "cell_type": "code",
   "execution_count": 11,
   "metadata": {},
   "outputs": [],
   "source": [
    "for col in df.columns:\n",
    "    df[col] = df[col].fillna(value=df[col].median())"
   ]
  },
  {
   "cell_type": "code",
   "execution_count": 12,
   "metadata": {},
   "outputs": [],
   "source": [
    "df = df.replace([np.inf, -np.inf], np.nan)"
   ]
  },
  {
   "cell_type": "code",
   "execution_count": 13,
   "metadata": {},
   "outputs": [
    {
     "name": "stdout",
     "output_type": "stream",
     "text": [
      "['INDUS_RM', 4, 0.8388053790125998]\n",
      "['RM_LSTAT', 4, 0.8381132110988259]\n",
      "['DIS', 4, 0.8373855619224188]\n",
      "['RM', 4, 0.8363912675600744]\n",
      "['DIS', 3, 0.8361273552567948]\n",
      "['DIS', 2, 0.8332976554458746]\n",
      "['RM_TAX', 4, 0.8327528172495917]\n",
      "['NOX_RM', 4, 0.8323293941474971]\n",
      "['LSTAT', 4, 0.8322095447609035]\n",
      "['RM_RAD', 4, 0.8313005886724807]\n",
      "['TAX', 4, 0.830717304456799]\n",
      "['RM_TAX', 3, 0.8305130064492949]\n",
      "['RM_RAD', 3, 0.8301901461446913]\n",
      "['NOX_RM', 3, 0.8298947201594007]\n",
      "['RM_LSTAT', 3, 0.829537678026821]\n",
      "['NOX', 4, 0.8294056788784564]\n",
      "['TAX', 3, 0.8293235696311251]\n",
      "['RM', 3, 0.8290306379182395]\n",
      "['LSTAT', 3, 0.8290106727039587]\n",
      "['INDUS_RM', 3, 0.8289796213988189]\n",
      "['RM', 2, 0.8289743969320962]\n",
      "['CRIM', 4, 0.8283959426143311]\n",
      "['RM_PTRATIO', 4, 0.8281082013275358]\n",
      "['INDUS_RM', 2, 0.8280391467020635]\n",
      "['CRIM', 3, 0.8278084470644337]\n",
      "['CRIM', 2, 0.827799061409417]\n",
      "['AGE', 4, 0.8275611316889205]\n",
      "['AGE', 3, 0.8275341682968153]\n",
      "['LSTAT', 2, 0.8273855234866025]\n",
      "['B', 4, 0.8273659301873806]\n",
      "['INDUS', 4, 0.8273272767474921]\n",
      "['INDUS', 3, 0.8273268177201833]\n",
      "['B', 3, 0.8271923536218447]\n",
      "['ZN', 4, 0.827019981912743]\n",
      "['RAD', 4, 0.8268943352981462]\n",
      "['NOX', 3, 0.8266376816490136]\n",
      "['B', 2, 0.8266167991829073]\n",
      "['RM_PTRATIO', 3, 0.8265563486502353]\n",
      "['ZN', 3, 0.8264551369631914]\n",
      "['AGE', 2, 0.8262273666571253]\n",
      "['RAD', 3, 0.826086009157874]\n",
      "['RM_PTRATIO', 2, 0.8259286539331496]\n",
      "['ZN', 2, 0.8257751785258028]\n",
      "['INDUS', 2, 0.8256230471649838]\n",
      "['interaction', 4, 0.8255904201535763]\n",
      "['interaction', 3, 0.8251419597642016]\n",
      "['interaction', 2, 0.8251419397452419]\n",
      "['PTRATIO', 4, 0.8250962852787233]\n",
      "['NOX', 2, 0.8250196361023984]\n",
      "['NOX_RM', 2, 0.8249583203611451]\n",
      "['RM_TAX', 2, 0.8249385717313383]\n",
      "['RM_LSTAT', 2, 0.8249336386677092]\n",
      "['RAD', 2, 0.8249285800744842]\n",
      "['PTRATIO', 3, 0.8249180913811914]\n",
      "['TAX', 2, 0.8248961169393344]\n",
      "['RM_RAD', 2, 0.8248839462171458]\n",
      "['PTRATIO', 2, 0.8248834558404736]\n",
      "['CHAS', 4, 0.8248796962134768]\n",
      "['CHAS', 2, 0.8248796962134766]\n",
      "['CHAS', 3, 0.8248706079229491]\n"
     ]
    }
   ],
   "source": [
    "results = []\n",
    "for scale in [2,3,4]:\n",
    "    for feature in df.columns:\n",
    "        poly = PolynomialFeatures(scale)\n",
    "        feature_poly = pd.DataFrame(poly.fit_transform(sm.add_constant(df[feature])))\n",
    "        X_poly = pd.concat([df[[col for col in df.columns if col != feature]], feature_poly], axis=1)\n",
    "        reg_poly = LinearRegression().fit(X_poly, y)\n",
    "        results.append([feature, scale, reg_poly.score(X_poly,y)])\n",
    "\n",
    "for result in sorted(results, key=lambda x: x[2], reverse=True):\n",
    "    print(result)\n"
   ]
  },
  {
   "cell_type": "markdown",
   "metadata": {},
   "source": [
    "For each variable, print out the maximum R2 possible when including Polynomials."
   ]
  },
  {
   "cell_type": "code",
   "execution_count": 14,
   "metadata": {},
   "outputs": [],
   "source": [
    "# Your code here"
   ]
  },
  {
   "cell_type": "code",
   "execution_count": null,
   "metadata": {},
   "outputs": [],
   "source": []
  },
  {
   "cell_type": "markdown",
   "metadata": {},
   "source": [
    "Which two variables seem to benefit most from adding Polynomial terms?\n"
   ]
  },
  {
   "cell_type": "code",
   "execution_count": 15,
   "metadata": {},
   "outputs": [],
   "source": [
    "#['INDUS_RM', 4, 0.8388053790125998]\n",
    "#['RM_LSTAT', 4, 0.8381132110988259]"
   ]
  },
  {
   "cell_type": "markdown",
   "metadata": {},
   "source": [
    "Add Polynomials for the two features that seem to benefit the most, as in have the best R squared compared to the baseline model. For each of the two feature, raise to the Polynomial that generates the best result. Make sure to start from the data set `df_inter` so the final data set has both interactions and polynomials in the model."
   ]
  },
  {
   "cell_type": "code",
   "execution_count": 16,
   "metadata": {},
   "outputs": [],
   "source": [
    "df[\"INDUS_RM_4\"] = df[\"INDUS_RM\"]**4\n",
    "df[\"RM_LSTAT_4\"] = df[\"RM_LSTAT\"]**4"
   ]
  },
  {
   "cell_type": "code",
   "execution_count": 53,
   "metadata": {},
   "outputs": [],
   "source": [
    "df2 = df.drop(columns=[\"INDUS_RM\",\"RM_LSTAT\" ])"
   ]
  },
  {
   "cell_type": "markdown",
   "metadata": {},
   "source": [
    "check out your final data set and make sure that your interaction terms as well as your polynomial terms are included."
   ]
  },
  {
   "cell_type": "code",
   "execution_count": 21,
   "metadata": {},
   "outputs": [],
   "source": [
    "y = pd.DataFrame(y)"
   ]
  },
  {
   "cell_type": "code",
   "execution_count": 22,
   "metadata": {
    "scrolled": true
   },
   "outputs": [],
   "source": []
  },
  {
   "cell_type": "code",
   "execution_count": 27,
   "metadata": {},
   "outputs": [],
   "source": [
    "cols = list(df2.columns)\n",
    "cols[-1] = \"price\"\n",
    "df2.columns = cols"
   ]
  },
  {
   "cell_type": "markdown",
   "metadata": {},
   "source": [
    "## Full model R-squared"
   ]
  },
  {
   "cell_type": "markdown",
   "metadata": {},
   "source": [
    "Check out the R-squared of the full model."
   ]
  },
  {
   "cell_type": "code",
   "execution_count": 39,
   "metadata": {},
   "outputs": [],
   "source": [
    "X = df2[[col for col in df2.columns if col !=\"price\"]]"
   ]
  },
  {
   "cell_type": "code",
   "execution_count": 37,
   "metadata": {},
   "outputs": [],
   "source": [
    "from sklearn.linear_model import LinearRegression"
   ]
  },
  {
   "cell_type": "code",
   "execution_count": 52,
   "metadata": {},
   "outputs": [
    {
     "data": {
      "text/html": [
       "<div>\n",
       "<style scoped>\n",
       "    .dataframe tbody tr th:only-of-type {\n",
       "        vertical-align: middle;\n",
       "    }\n",
       "\n",
       "    .dataframe tbody tr th {\n",
       "        vertical-align: top;\n",
       "    }\n",
       "\n",
       "    .dataframe thead th {\n",
       "        text-align: right;\n",
       "    }\n",
       "</style>\n",
       "<table border=\"1\" class=\"dataframe\">\n",
       "  <thead>\n",
       "    <tr style=\"text-align: right;\">\n",
       "      <th></th>\n",
       "      <th>CRIM</th>\n",
       "      <th>ZN</th>\n",
       "      <th>INDUS</th>\n",
       "      <th>CHAS</th>\n",
       "      <th>NOX</th>\n",
       "      <th>RM</th>\n",
       "      <th>AGE</th>\n",
       "      <th>DIS</th>\n",
       "      <th>RAD</th>\n",
       "      <th>TAX</th>\n",
       "      <th>PTRATIO</th>\n",
       "      <th>B</th>\n",
       "      <th>LSTAT</th>\n",
       "      <th>interaction</th>\n",
       "      <th>RM_TAX</th>\n",
       "      <th>RM_RAD</th>\n",
       "      <th>RM_PTRATIO</th>\n",
       "      <th>NOX_RM</th>\n",
       "      <th>INDUS_RM_4</th>\n",
       "      <th>RM_LSTAT_4</th>\n",
       "    </tr>\n",
       "  </thead>\n",
       "  <tbody>\n",
       "    <tr>\n",
       "      <th>0</th>\n",
       "      <td>-0.419782</td>\n",
       "      <td>0.284830</td>\n",
       "      <td>-1.287909</td>\n",
       "      <td>-0.272599</td>\n",
       "      <td>-0.144217</td>\n",
       "      <td>0.413672</td>\n",
       "      <td>-0.120013</td>\n",
       "      <td>0.140214</td>\n",
       "      <td>-0.982843</td>\n",
       "      <td>-0.666608</td>\n",
       "      <td>-1.459000</td>\n",
       "      <td>0.441052</td>\n",
       "      <td>-1.075562</td>\n",
       "      <td>-0.474379</td>\n",
       "      <td>-0.275757</td>\n",
       "      <td>-0.406574</td>\n",
       "      <td>-0.603547</td>\n",
       "      <td>-0.059659</td>\n",
       "      <td>0.080569</td>\n",
       "      <td>0.039189</td>\n",
       "    </tr>\n",
       "    <tr>\n",
       "      <th>1</th>\n",
       "      <td>-0.417339</td>\n",
       "      <td>-0.487722</td>\n",
       "      <td>-0.593381</td>\n",
       "      <td>-0.272599</td>\n",
       "      <td>-0.740262</td>\n",
       "      <td>0.194274</td>\n",
       "      <td>0.367166</td>\n",
       "      <td>0.557160</td>\n",
       "      <td>-0.867883</td>\n",
       "      <td>-0.987329</td>\n",
       "      <td>-0.303094</td>\n",
       "      <td>0.441052</td>\n",
       "      <td>-0.492439</td>\n",
       "      <td>-0.217191</td>\n",
       "      <td>-0.191813</td>\n",
       "      <td>-0.168607</td>\n",
       "      <td>-0.058883</td>\n",
       "      <td>-0.143814</td>\n",
       "      <td>0.000177</td>\n",
       "      <td>0.000084</td>\n",
       "    </tr>\n",
       "    <tr>\n",
       "      <th>2</th>\n",
       "      <td>-0.417342</td>\n",
       "      <td>-0.487722</td>\n",
       "      <td>-0.593381</td>\n",
       "      <td>-0.272599</td>\n",
       "      <td>-0.740262</td>\n",
       "      <td>1.282714</td>\n",
       "      <td>-0.265812</td>\n",
       "      <td>0.557160</td>\n",
       "      <td>-0.867883</td>\n",
       "      <td>-0.987329</td>\n",
       "      <td>-0.303094</td>\n",
       "      <td>0.396427</td>\n",
       "      <td>-1.208727</td>\n",
       "      <td>-0.479172</td>\n",
       "      <td>-1.266461</td>\n",
       "      <td>-1.113245</td>\n",
       "      <td>-0.388783</td>\n",
       "      <td>-0.949544</td>\n",
       "      <td>0.335624</td>\n",
       "      <td>5.778730</td>\n",
       "    </tr>\n",
       "    <tr>\n",
       "      <th>3</th>\n",
       "      <td>-0.416750</td>\n",
       "      <td>-0.487722</td>\n",
       "      <td>-1.306878</td>\n",
       "      <td>-0.272599</td>\n",
       "      <td>-0.835284</td>\n",
       "      <td>1.016303</td>\n",
       "      <td>-0.809889</td>\n",
       "      <td>1.077737</td>\n",
       "      <td>-0.752922</td>\n",
       "      <td>-1.106115</td>\n",
       "      <td>0.113032</td>\n",
       "      <td>0.416163</td>\n",
       "      <td>-1.361517</td>\n",
       "      <td>-0.566613</td>\n",
       "      <td>-1.124148</td>\n",
       "      <td>-0.765197</td>\n",
       "      <td>0.114875</td>\n",
       "      <td>-0.848901</td>\n",
       "      <td>3.111944</td>\n",
       "      <td>3.665929</td>\n",
       "    </tr>\n",
       "    <tr>\n",
       "      <th>4</th>\n",
       "      <td>-0.412482</td>\n",
       "      <td>-0.487722</td>\n",
       "      <td>-1.306878</td>\n",
       "      <td>-0.272599</td>\n",
       "      <td>-0.835284</td>\n",
       "      <td>1.228577</td>\n",
       "      <td>-0.511180</td>\n",
       "      <td>1.077737</td>\n",
       "      <td>-0.752922</td>\n",
       "      <td>-1.106115</td>\n",
       "      <td>0.113032</td>\n",
       "      <td>0.441052</td>\n",
       "      <td>-1.026501</td>\n",
       "      <td>-0.452740</td>\n",
       "      <td>-1.358947</td>\n",
       "      <td>-0.925023</td>\n",
       "      <td>0.138869</td>\n",
       "      <td>-1.026210</td>\n",
       "      <td>6.645824</td>\n",
       "      <td>2.529574</td>\n",
       "    </tr>\n",
       "  </tbody>\n",
       "</table>\n",
       "</div>"
      ],
      "text/plain": [
       "       CRIM        ZN     INDUS      CHAS       NOX        RM       AGE  \\\n",
       "0 -0.419782  0.284830 -1.287909 -0.272599 -0.144217  0.413672 -0.120013   \n",
       "1 -0.417339 -0.487722 -0.593381 -0.272599 -0.740262  0.194274  0.367166   \n",
       "2 -0.417342 -0.487722 -0.593381 -0.272599 -0.740262  1.282714 -0.265812   \n",
       "3 -0.416750 -0.487722 -1.306878 -0.272599 -0.835284  1.016303 -0.809889   \n",
       "4 -0.412482 -0.487722 -1.306878 -0.272599 -0.835284  1.228577 -0.511180   \n",
       "\n",
       "        DIS       RAD       TAX   PTRATIO         B     LSTAT  interaction  \\\n",
       "0  0.140214 -0.982843 -0.666608 -1.459000  0.441052 -1.075562    -0.474379   \n",
       "1  0.557160 -0.867883 -0.987329 -0.303094  0.441052 -0.492439    -0.217191   \n",
       "2  0.557160 -0.867883 -0.987329 -0.303094  0.396427 -1.208727    -0.479172   \n",
       "3  1.077737 -0.752922 -1.106115  0.113032  0.416163 -1.361517    -0.566613   \n",
       "4  1.077737 -0.752922 -1.106115  0.113032  0.441052 -1.026501    -0.452740   \n",
       "\n",
       "     RM_TAX    RM_RAD  RM_PTRATIO    NOX_RM  INDUS_RM_4  RM_LSTAT_4  \n",
       "0 -0.275757 -0.406574   -0.603547 -0.059659    0.080569    0.039189  \n",
       "1 -0.191813 -0.168607   -0.058883 -0.143814    0.000177    0.000084  \n",
       "2 -1.266461 -1.113245   -0.388783 -0.949544    0.335624    5.778730  \n",
       "3 -1.124148 -0.765197    0.114875 -0.848901    3.111944    3.665929  \n",
       "4 -1.358947 -0.925023    0.138869 -1.026210    6.645824    2.529574  "
      ]
     },
     "execution_count": 52,
     "metadata": {},
     "output_type": "execute_result"
    }
   ],
   "source": [
    "df2"
   ]
  },
  {
   "cell_type": "code",
   "execution_count": 54,
   "metadata": {},
   "outputs": [
    {
     "data": {
      "text/plain": [
       "LinearRegression(copy_X=True, fit_intercept=True, n_jobs=None,\n",
       "         normalize=False)"
      ]
     },
     "execution_count": 54,
     "metadata": {},
     "output_type": "execute_result"
    }
   ],
   "source": [
    "model = LinearRegression()\n",
    "model.fit(df2, y)"
   ]
  },
  {
   "cell_type": "code",
   "execution_count": 56,
   "metadata": {},
   "outputs": [
    {
     "data": {
      "text/plain": [
       "0.815093960290724"
      ]
     },
     "execution_count": 56,
     "metadata": {},
     "output_type": "execute_result"
    }
   ],
   "source": [
    "model.score(df2,y)"
   ]
  },
  {
   "cell_type": "code",
   "execution_count": 66,
   "metadata": {},
   "outputs": [],
   "source": [
    "all = pd.concat([df2,y], axis=1)"
   ]
  },
  {
   "cell_type": "code",
   "execution_count": 67,
   "metadata": {},
   "outputs": [],
   "source": [
    "\n",
    "all.columns = list(df2.columns) + [\"price\"]"
   ]
  },
  {
   "cell_type": "code",
   "execution_count": 68,
   "metadata": {},
   "outputs": [],
   "source": [
    "formula = \"price~\" + \"+\".join(df2.columns)"
   ]
  },
  {
   "cell_type": "code",
   "execution_count": 69,
   "metadata": {},
   "outputs": [
    {
     "data": {
      "text/html": [
       "<div>\n",
       "<style scoped>\n",
       "    .dataframe tbody tr th:only-of-type {\n",
       "        vertical-align: middle;\n",
       "    }\n",
       "\n",
       "    .dataframe tbody tr th {\n",
       "        vertical-align: top;\n",
       "    }\n",
       "\n",
       "    .dataframe thead th {\n",
       "        text-align: right;\n",
       "    }\n",
       "</style>\n",
       "<table border=\"1\" class=\"dataframe\">\n",
       "  <thead>\n",
       "    <tr style=\"text-align: right;\">\n",
       "      <th></th>\n",
       "      <th>CRIM</th>\n",
       "      <th>ZN</th>\n",
       "      <th>INDUS</th>\n",
       "      <th>CHAS</th>\n",
       "      <th>NOX</th>\n",
       "      <th>RM</th>\n",
       "      <th>AGE</th>\n",
       "      <th>DIS</th>\n",
       "      <th>RAD</th>\n",
       "      <th>TAX</th>\n",
       "      <th>...</th>\n",
       "      <th>B</th>\n",
       "      <th>LSTAT</th>\n",
       "      <th>interaction</th>\n",
       "      <th>RM_TAX</th>\n",
       "      <th>RM_RAD</th>\n",
       "      <th>RM_PTRATIO</th>\n",
       "      <th>NOX_RM</th>\n",
       "      <th>INDUS_RM_4</th>\n",
       "      <th>RM_LSTAT_4</th>\n",
       "      <th>price</th>\n",
       "    </tr>\n",
       "  </thead>\n",
       "  <tbody>\n",
       "    <tr>\n",
       "      <th>501</th>\n",
       "      <td>-0.413229</td>\n",
       "      <td>-0.487722</td>\n",
       "      <td>0.115738</td>\n",
       "      <td>-0.272599</td>\n",
       "      <td>0.158124</td>\n",
       "      <td>0.439316</td>\n",
       "      <td>0.018673</td>\n",
       "      <td>-0.625796</td>\n",
       "      <td>-0.982843</td>\n",
       "      <td>-0.803212</td>\n",
       "      <td>...</td>\n",
       "      <td>0.387217</td>\n",
       "      <td>-0.418147</td>\n",
       "      <td>-0.161914</td>\n",
       "      <td>-0.352864</td>\n",
       "      <td>-0.431778</td>\n",
       "      <td>0.516840</td>\n",
       "      <td>0.069466</td>\n",
       "      <td>6.683702e-06</td>\n",
       "      <td>0.001139</td>\n",
       "      <td>22.4</td>\n",
       "    </tr>\n",
       "    <tr>\n",
       "      <th>502</th>\n",
       "      <td>-0.415249</td>\n",
       "      <td>-0.487722</td>\n",
       "      <td>0.115738</td>\n",
       "      <td>-0.272599</td>\n",
       "      <td>0.158124</td>\n",
       "      <td>-0.234548</td>\n",
       "      <td>0.288933</td>\n",
       "      <td>-0.716639</td>\n",
       "      <td>-0.982843</td>\n",
       "      <td>-0.803212</td>\n",
       "      <td>...</td>\n",
       "      <td>0.441052</td>\n",
       "      <td>-0.500850</td>\n",
       "      <td>-0.220901</td>\n",
       "      <td>0.188392</td>\n",
       "      <td>0.230524</td>\n",
       "      <td>-0.275937</td>\n",
       "      <td>-0.037088</td>\n",
       "      <td>5.430446e-07</td>\n",
       "      <td>0.000190</td>\n",
       "      <td>20.6</td>\n",
       "    </tr>\n",
       "    <tr>\n",
       "      <th>503</th>\n",
       "      <td>-0.413447</td>\n",
       "      <td>-0.487722</td>\n",
       "      <td>0.115738</td>\n",
       "      <td>-0.272599</td>\n",
       "      <td>0.158124</td>\n",
       "      <td>0.984960</td>\n",
       "      <td>0.797449</td>\n",
       "      <td>-0.773684</td>\n",
       "      <td>-0.982843</td>\n",
       "      <td>-0.803212</td>\n",
       "      <td>...</td>\n",
       "      <td>0.441052</td>\n",
       "      <td>-0.983048</td>\n",
       "      <td>-0.433575</td>\n",
       "      <td>-0.791131</td>\n",
       "      <td>-0.968061</td>\n",
       "      <td>1.158772</td>\n",
       "      <td>0.155746</td>\n",
       "      <td>1.688824e-04</td>\n",
       "      <td>0.878967</td>\n",
       "      <td>23.9</td>\n",
       "    </tr>\n",
       "    <tr>\n",
       "      <th>504</th>\n",
       "      <td>-0.407764</td>\n",
       "      <td>-0.487722</td>\n",
       "      <td>0.115738</td>\n",
       "      <td>-0.272599</td>\n",
       "      <td>0.158124</td>\n",
       "      <td>0.725672</td>\n",
       "      <td>0.736996</td>\n",
       "      <td>-0.668437</td>\n",
       "      <td>-0.982843</td>\n",
       "      <td>-0.803212</td>\n",
       "      <td>...</td>\n",
       "      <td>0.403225</td>\n",
       "      <td>-0.865302</td>\n",
       "      <td>-0.348911</td>\n",
       "      <td>-0.582868</td>\n",
       "      <td>-0.713222</td>\n",
       "      <td>0.853728</td>\n",
       "      <td>0.114746</td>\n",
       "      <td>4.975902e-05</td>\n",
       "      <td>0.155465</td>\n",
       "      <td>22.0</td>\n",
       "    </tr>\n",
       "    <tr>\n",
       "      <th>505</th>\n",
       "      <td>-0.415000</td>\n",
       "      <td>-0.487722</td>\n",
       "      <td>0.115738</td>\n",
       "      <td>-0.272599</td>\n",
       "      <td>0.158124</td>\n",
       "      <td>-0.362767</td>\n",
       "      <td>0.434732</td>\n",
       "      <td>-0.613246</td>\n",
       "      <td>-0.982843</td>\n",
       "      <td>-0.803212</td>\n",
       "      <td>...</td>\n",
       "      <td>0.441052</td>\n",
       "      <td>-0.669058</td>\n",
       "      <td>-0.295089</td>\n",
       "      <td>0.291379</td>\n",
       "      <td>0.356543</td>\n",
       "      <td>-0.426783</td>\n",
       "      <td>-0.057362</td>\n",
       "      <td>3.107574e-06</td>\n",
       "      <td>0.003470</td>\n",
       "      <td>11.9</td>\n",
       "    </tr>\n",
       "  </tbody>\n",
       "</table>\n",
       "<p>5 rows × 21 columns</p>\n",
       "</div>"
      ],
      "text/plain": [
       "         CRIM        ZN     INDUS      CHAS       NOX        RM       AGE  \\\n",
       "501 -0.413229 -0.487722  0.115738 -0.272599  0.158124  0.439316  0.018673   \n",
       "502 -0.415249 -0.487722  0.115738 -0.272599  0.158124 -0.234548  0.288933   \n",
       "503 -0.413447 -0.487722  0.115738 -0.272599  0.158124  0.984960  0.797449   \n",
       "504 -0.407764 -0.487722  0.115738 -0.272599  0.158124  0.725672  0.736996   \n",
       "505 -0.415000 -0.487722  0.115738 -0.272599  0.158124 -0.362767  0.434732   \n",
       "\n",
       "          DIS       RAD       TAX  ...           B     LSTAT  interaction  \\\n",
       "501 -0.625796 -0.982843 -0.803212  ...    0.387217 -0.418147    -0.161914   \n",
       "502 -0.716639 -0.982843 -0.803212  ...    0.441052 -0.500850    -0.220901   \n",
       "503 -0.773684 -0.982843 -0.803212  ...    0.441052 -0.983048    -0.433575   \n",
       "504 -0.668437 -0.982843 -0.803212  ...    0.403225 -0.865302    -0.348911   \n",
       "505 -0.613246 -0.982843 -0.803212  ...    0.441052 -0.669058    -0.295089   \n",
       "\n",
       "       RM_TAX    RM_RAD  RM_PTRATIO    NOX_RM    INDUS_RM_4  RM_LSTAT_4  price  \n",
       "501 -0.352864 -0.431778    0.516840  0.069466  6.683702e-06    0.001139   22.4  \n",
       "502  0.188392  0.230524   -0.275937 -0.037088  5.430446e-07    0.000190   20.6  \n",
       "503 -0.791131 -0.968061    1.158772  0.155746  1.688824e-04    0.878967   23.9  \n",
       "504 -0.582868 -0.713222    0.853728  0.114746  4.975902e-05    0.155465   22.0  \n",
       "505  0.291379  0.356543   -0.426783 -0.057362  3.107574e-06    0.003470   11.9  \n",
       "\n",
       "[5 rows x 21 columns]"
      ]
     },
     "execution_count": 69,
     "metadata": {},
     "output_type": "execute_result"
    }
   ],
   "source": [
    "all.tail()"
   ]
  },
  {
   "cell_type": "code",
   "execution_count": 70,
   "metadata": {},
   "outputs": [],
   "source": [
    "\n",
    "model = ols(formula=formula, data=all).fit()"
   ]
  },
  {
   "cell_type": "code",
   "execution_count": 71,
   "metadata": {},
   "outputs": [
    {
     "data": {
      "text/html": [
       "<table class=\"simpletable\">\n",
       "<caption>OLS Regression Results</caption>\n",
       "<tr>\n",
       "  <th>Dep. Variable:</th>          <td>price</td>      <th>  R-squared:         </th> <td>   0.815</td> \n",
       "</tr>\n",
       "<tr>\n",
       "  <th>Model:</th>                   <td>OLS</td>       <th>  Adj. R-squared:    </th> <td>   0.807</td> \n",
       "</tr>\n",
       "<tr>\n",
       "  <th>Method:</th>             <td>Least Squares</td>  <th>  F-statistic:       </th> <td>   106.9</td> \n",
       "</tr>\n",
       "<tr>\n",
       "  <th>Date:</th>             <td>Thu, 13 Jun 2019</td> <th>  Prob (F-statistic):</th> <td>2.64e-163</td>\n",
       "</tr>\n",
       "<tr>\n",
       "  <th>Time:</th>                 <td>18:28:01</td>     <th>  Log-Likelihood:    </th> <td> -1413.2</td> \n",
       "</tr>\n",
       "<tr>\n",
       "  <th>No. Observations:</th>      <td>   506</td>      <th>  AIC:               </th> <td>   2868.</td> \n",
       "</tr>\n",
       "<tr>\n",
       "  <th>Df Residuals:</th>          <td>   485</td>      <th>  BIC:               </th> <td>   2957.</td> \n",
       "</tr>\n",
       "<tr>\n",
       "  <th>Df Model:</th>              <td>    20</td>      <th>                     </th>     <td> </td>    \n",
       "</tr>\n",
       "<tr>\n",
       "  <th>Covariance Type:</th>      <td>nonrobust</td>    <th>                     </th>     <td> </td>    \n",
       "</tr>\n",
       "</table>\n",
       "<table class=\"simpletable\">\n",
       "<tr>\n",
       "       <td></td>          <th>coef</th>     <th>std err</th>      <th>t</th>      <th>P>|t|</th>  <th>[0.025</th>    <th>0.975]</th>  \n",
       "</tr>\n",
       "<tr>\n",
       "  <th>Intercept</th>   <td>   21.2706</td> <td>    0.220</td> <td>   96.892</td> <td> 0.000</td> <td>   20.839</td> <td>   21.702</td>\n",
       "</tr>\n",
       "<tr>\n",
       "  <th>CRIM</th>        <td>   -1.1974</td> <td>    0.243</td> <td>   -4.920</td> <td> 0.000</td> <td>   -1.676</td> <td>   -0.719</td>\n",
       "</tr>\n",
       "<tr>\n",
       "  <th>ZN</th>          <td>   -0.0649</td> <td>    0.291</td> <td>   -0.223</td> <td> 0.824</td> <td>   -0.636</td> <td>    0.507</td>\n",
       "</tr>\n",
       "<tr>\n",
       "  <th>INDUS</th>       <td>    0.6558</td> <td>    0.365</td> <td>    1.797</td> <td> 0.073</td> <td>   -0.061</td> <td>    1.373</td>\n",
       "</tr>\n",
       "<tr>\n",
       "  <th>CHAS</th>        <td>    0.7612</td> <td>    0.188</td> <td>    4.041</td> <td> 0.000</td> <td>    0.391</td> <td>    1.131</td>\n",
       "</tr>\n",
       "<tr>\n",
       "  <th>NOX</th>         <td>   -1.8364</td> <td>    0.403</td> <td>   -4.558</td> <td> 0.000</td> <td>   -2.628</td> <td>   -1.045</td>\n",
       "</tr>\n",
       "<tr>\n",
       "  <th>RM</th>          <td>    2.6970</td> <td>    0.291</td> <td>    9.261</td> <td> 0.000</td> <td>    2.125</td> <td>    3.269</td>\n",
       "</tr>\n",
       "<tr>\n",
       "  <th>AGE</th>         <td>    0.0709</td> <td>    0.328</td> <td>    0.216</td> <td> 0.829</td> <td>   -0.573</td> <td>    0.715</td>\n",
       "</tr>\n",
       "<tr>\n",
       "  <th>DIS</th>         <td>   -1.7961</td> <td>    0.371</td> <td>   -4.840</td> <td> 0.000</td> <td>   -2.525</td> <td>   -1.067</td>\n",
       "</tr>\n",
       "<tr>\n",
       "  <th>RAD</th>         <td>    2.4927</td> <td>    0.521</td> <td>    4.780</td> <td> 0.000</td> <td>    1.468</td> <td>    3.517</td>\n",
       "</tr>\n",
       "<tr>\n",
       "  <th>TAX</th>         <td>   -2.2310</td> <td>    0.550</td> <td>   -4.053</td> <td> 0.000</td> <td>   -3.313</td> <td>   -1.149</td>\n",
       "</tr>\n",
       "<tr>\n",
       "  <th>PTRATIO</th>     <td>   -1.4654</td> <td>    0.246</td> <td>   -5.949</td> <td> 0.000</td> <td>   -1.949</td> <td>   -0.981</td>\n",
       "</tr>\n",
       "<tr>\n",
       "  <th>B</th>           <td>    0.9996</td> <td>    0.303</td> <td>    3.304</td> <td> 0.001</td> <td>    0.405</td> <td>    1.594</td>\n",
       "</tr>\n",
       "<tr>\n",
       "  <th>LSTAT</th>       <td>   -4.0390</td> <td>    0.335</td> <td>  -12.071</td> <td> 0.000</td> <td>   -4.697</td> <td>   -3.382</td>\n",
       "</tr>\n",
       "<tr>\n",
       "  <th>interaction</th> <td>   -0.3945</td> <td>    0.221</td> <td>   -1.783</td> <td> 0.075</td> <td>   -0.829</td> <td>    0.040</td>\n",
       "</tr>\n",
       "<tr>\n",
       "  <th>RM_TAX</th>      <td>   -0.3497</td> <td>    0.519</td> <td>   -0.673</td> <td> 0.501</td> <td>   -1.370</td> <td>    0.671</td>\n",
       "</tr>\n",
       "<tr>\n",
       "  <th>RM_RAD</th>      <td>    0.1018</td> <td>    0.520</td> <td>    0.196</td> <td> 0.845</td> <td>   -0.920</td> <td>    1.124</td>\n",
       "</tr>\n",
       "<tr>\n",
       "  <th>RM_PTRATIO</th>  <td>   -1.3372</td> <td>    0.262</td> <td>   -5.105</td> <td> 0.000</td> <td>   -1.852</td> <td>   -0.823</td>\n",
       "</tr>\n",
       "<tr>\n",
       "  <th>NOX_RM</th>      <td>   -1.2808</td> <td>    0.300</td> <td>   -4.269</td> <td> 0.000</td> <td>   -1.870</td> <td>   -0.691</td>\n",
       "</tr>\n",
       "<tr>\n",
       "  <th>INDUS_RM_4</th>  <td>    0.0184</td> <td>    0.009</td> <td>    2.153</td> <td> 0.032</td> <td>    0.002</td> <td>    0.035</td>\n",
       "</tr>\n",
       "<tr>\n",
       "  <th>RM_LSTAT_4</th>  <td>    0.0007</td> <td>    0.000</td> <td>    2.200</td> <td> 0.028</td> <td> 7.02e-05</td> <td>    0.001</td>\n",
       "</tr>\n",
       "</table>\n",
       "<table class=\"simpletable\">\n",
       "<tr>\n",
       "  <th>Omnibus:</th>       <td>271.141</td> <th>  Durbin-Watson:     </th> <td>   0.970</td>\n",
       "</tr>\n",
       "<tr>\n",
       "  <th>Prob(Omnibus):</th> <td> 0.000</td>  <th>  Jarque-Bera (JB):  </th> <td>2519.176</td>\n",
       "</tr>\n",
       "<tr>\n",
       "  <th>Skew:</th>          <td> 2.158</td>  <th>  Prob(JB):          </th> <td>    0.00</td>\n",
       "</tr>\n",
       "<tr>\n",
       "  <th>Kurtosis:</th>      <td>13.042</td>  <th>  Cond. No.          </th> <td>3.01e+03</td>\n",
       "</tr>\n",
       "</table><br/><br/>Warnings:<br/>[1] Standard Errors assume that the covariance matrix of the errors is correctly specified.<br/>[2] The condition number is large, 3.01e+03. This might indicate that there are<br/>strong multicollinearity or other numerical problems."
      ],
      "text/plain": [
       "<class 'statsmodels.iolib.summary.Summary'>\n",
       "\"\"\"\n",
       "                            OLS Regression Results                            \n",
       "==============================================================================\n",
       "Dep. Variable:                  price   R-squared:                       0.815\n",
       "Model:                            OLS   Adj. R-squared:                  0.807\n",
       "Method:                 Least Squares   F-statistic:                     106.9\n",
       "Date:                Thu, 13 Jun 2019   Prob (F-statistic):          2.64e-163\n",
       "Time:                        18:28:01   Log-Likelihood:                -1413.2\n",
       "No. Observations:                 506   AIC:                             2868.\n",
       "Df Residuals:                     485   BIC:                             2957.\n",
       "Df Model:                          20                                         \n",
       "Covariance Type:            nonrobust                                         \n",
       "===============================================================================\n",
       "                  coef    std err          t      P>|t|      [0.025      0.975]\n",
       "-------------------------------------------------------------------------------\n",
       "Intercept      21.2706      0.220     96.892      0.000      20.839      21.702\n",
       "CRIM           -1.1974      0.243     -4.920      0.000      -1.676      -0.719\n",
       "ZN             -0.0649      0.291     -0.223      0.824      -0.636       0.507\n",
       "INDUS           0.6558      0.365      1.797      0.073      -0.061       1.373\n",
       "CHAS            0.7612      0.188      4.041      0.000       0.391       1.131\n",
       "NOX            -1.8364      0.403     -4.558      0.000      -2.628      -1.045\n",
       "RM              2.6970      0.291      9.261      0.000       2.125       3.269\n",
       "AGE             0.0709      0.328      0.216      0.829      -0.573       0.715\n",
       "DIS            -1.7961      0.371     -4.840      0.000      -2.525      -1.067\n",
       "RAD             2.4927      0.521      4.780      0.000       1.468       3.517\n",
       "TAX            -2.2310      0.550     -4.053      0.000      -3.313      -1.149\n",
       "PTRATIO        -1.4654      0.246     -5.949      0.000      -1.949      -0.981\n",
       "B               0.9996      0.303      3.304      0.001       0.405       1.594\n",
       "LSTAT          -4.0390      0.335    -12.071      0.000      -4.697      -3.382\n",
       "interaction    -0.3945      0.221     -1.783      0.075      -0.829       0.040\n",
       "RM_TAX         -0.3497      0.519     -0.673      0.501      -1.370       0.671\n",
       "RM_RAD          0.1018      0.520      0.196      0.845      -0.920       1.124\n",
       "RM_PTRATIO     -1.3372      0.262     -5.105      0.000      -1.852      -0.823\n",
       "NOX_RM         -1.2808      0.300     -4.269      0.000      -1.870      -0.691\n",
       "INDUS_RM_4      0.0184      0.009      2.153      0.032       0.002       0.035\n",
       "RM_LSTAT_4      0.0007      0.000      2.200      0.028    7.02e-05       0.001\n",
       "==============================================================================\n",
       "Omnibus:                      271.141   Durbin-Watson:                   0.970\n",
       "Prob(Omnibus):                  0.000   Jarque-Bera (JB):             2519.176\n",
       "Skew:                           2.158   Prob(JB):                         0.00\n",
       "Kurtosis:                      13.042   Cond. No.                     3.01e+03\n",
       "==============================================================================\n",
       "\n",
       "Warnings:\n",
       "[1] Standard Errors assume that the covariance matrix of the errors is correctly specified.\n",
       "[2] The condition number is large, 3.01e+03. This might indicate that there are\n",
       "strong multicollinearity or other numerical problems.\n",
       "\"\"\""
      ]
     },
     "execution_count": 71,
     "metadata": {},
     "output_type": "execute_result"
    }
   ],
   "source": [
    "model.summary()"
   ]
  },
  {
   "cell_type": "markdown",
   "metadata": {},
   "source": [
    "## Finding the best Lasso regularization parameter"
   ]
  },
  {
   "cell_type": "markdown",
   "metadata": {},
   "source": [
    "You've learned that, when using Lasso regularization, your coefficients shrink to 0 when using a higher regularization parameter. Now the question is which value we should choose for the regularization parameter. \n",
    "\n",
    "This is where the AIC and BIC come in handy! We'll use both criteria in what follows and perform cross-validation to select an optimal value of the regularization parameter alpha of the Lasso estimator.\n",
    "\n",
    "Read the page here: https://scikit-learn.org/stable/auto_examples/linear_model/plot_lasso_model_selection.html and create a similar plot as the first one listed on the page. "
   ]
  },
  {
   "cell_type": "code",
   "execution_count": 10,
   "metadata": {},
   "outputs": [],
   "source": [
    "# Your code here"
   ]
  },
  {
   "cell_type": "code",
   "execution_count": null,
   "metadata": {},
   "outputs": [],
   "source": []
  },
  {
   "cell_type": "markdown",
   "metadata": {},
   "source": [
    "## Analyze the final result\n",
    "\n",
    "Finally, use the best value for regularization parameter according to AIC and BIC and compare the R squared parameters and MSE using train-test-split. Compare with the baseline model."
   ]
  },
  {
   "cell_type": "code",
   "execution_count": 11,
   "metadata": {},
   "outputs": [],
   "source": [
    "# Code for baseline model"
   ]
  },
  {
   "cell_type": "code",
   "execution_count": 12,
   "metadata": {},
   "outputs": [],
   "source": [
    "# code for lasso with alpha from AIC"
   ]
  },
  {
   "cell_type": "code",
   "execution_count": 13,
   "metadata": {},
   "outputs": [],
   "source": [
    "# code for lasso with alpha from BIC"
   ]
  },
  {
   "cell_type": "markdown",
   "metadata": {},
   "source": [
    "## Level Up - Optional"
   ]
  },
  {
   "cell_type": "markdown",
   "metadata": {},
   "source": [
    "### Create a Lasso Path\n",
    "\n",
    "From this section, you know that when using lasso, more parameters shrink to zero as your regularization parameter goes up. In Scikit-Learn there is a function lasso_path which visualizes the shrinkage of the coefficients while alpha changes. Try this out yourself!\n",
    "\n",
    "https://scikit-learn.org/stable/auto_examples/linear_model/plot_lasso_coordinate_descent_path.html#sphx-glr-auto-examples-linear-model-plot-lasso-coordinate-descent-path-py"
   ]
  },
  {
   "cell_type": "markdown",
   "metadata": {},
   "source": [
    "### AIC and BIC for subset selection\n",
    "This notebook shows how you can use AIC and BIC purely for feature selection. Try this code out on our Boston Housing data!"
   ]
  },
  {
   "cell_type": "markdown",
   "metadata": {},
   "source": [
    "https://xavierbourretsicotte.github.io/subset_selection.html"
   ]
  },
  {
   "cell_type": "markdown",
   "metadata": {},
   "source": [
    "## Summary"
   ]
  },
  {
   "cell_type": "markdown",
   "metadata": {},
   "source": [
    "Congratulations! You now know how to create better linear models and how to use AIC and BIC for both feature selection and to optimize your regularization parameter when performing Ridge and Lasso. "
   ]
  }
 ],
 "metadata": {
  "kernelspec": {
   "display_name": "Python 3",
   "language": "python",
   "name": "python3"
  },
  "language_info": {
   "codemirror_mode": {
    "name": "ipython",
    "version": 3
   },
   "file_extension": ".py",
   "mimetype": "text/x-python",
   "name": "python",
   "nbconvert_exporter": "python",
   "pygments_lexer": "ipython3",
   "version": "3.6.6"
  }
 },
 "nbformat": 4,
 "nbformat_minor": 2
}
